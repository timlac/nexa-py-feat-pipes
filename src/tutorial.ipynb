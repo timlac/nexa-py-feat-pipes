{
 "cells": [
  {
   "cell_type": "code",
   "id": "initial_id",
   "metadata": {
    "collapsed": true,
    "ExecuteTime": {
     "end_time": "2024-04-18T09:43:30.880853Z",
     "start_time": "2024-04-18T09:43:30.876512Z"
    }
   },
   "source": [
    "import pandas as pd\n",
    "from feat import Detector\n",
    "from feat.utils.io import get_test_data_path\n",
    "import os\n",
    "from IPython.core.display import Video\n",
    "from glob import glob\n",
    "from pathlib import Path"
   ],
   "outputs": [],
   "execution_count": 34
  },
  {
   "metadata": {
    "ExecuteTime": {
     "end_time": "2024-04-18T09:31:33.079446Z",
     "start_time": "2024-04-18T09:31:31.294617Z"
    }
   },
   "cell_type": "code",
   "source": [
    "detector = Detector(device=\"cuda\")\n",
    "detector"
   ],
   "id": "f893d7ea7bf1fcad",
   "outputs": [
    {
     "data": {
      "text/plain": [
       "feat.detector.Detector(face_model=retinaface, landmark_model=mobilefacenet, au_model=xgb, emotion_model=resmasknet, facepose_model=img2pose, identity_model=facenet)"
      ]
     },
     "execution_count": 17,
     "metadata": {},
     "output_type": "execute_result"
    }
   ],
   "execution_count": 17
  },
  {
   "metadata": {
    "ExecuteTime": {
     "end_time": "2024-04-18T09:41:18.362912Z",
     "start_time": "2024-04-18T09:41:18.356773Z"
    }
   },
   "cell_type": "code",
   "source": [
    "video_glob_path = \"../data/test/sentimotion/**/*\"\n",
    "out_path = \"../data/test/out\"\n",
    "video_glob = glob(video_glob_path, recursive=True)\n",
    "video_glob"
   ],
   "id": "67b20f27c08d3173",
   "outputs": [
    {
     "data": {
      "text/plain": [
       "['../data/test/sentimotion/A67_pea_v_3.mov',\n",
       " '../data/test/sentimotion/A72_det_p_3.mov',\n",
       " '../data/test/sentimotion/A91_ang_p_3.mov',\n",
       " '../data/test/sentimotion/A102_gra_p_3.mp4']"
      ]
     },
     "execution_count": 29,
     "metadata": {},
     "output_type": "execute_result"
    }
   ],
   "execution_count": 29
  },
  {
   "metadata": {
    "ExecuteTime": {
     "end_time": "2024-04-18T09:42:59.914360Z",
     "start_time": "2024-04-18T09:41:31.166821Z"
    }
   },
   "cell_type": "code",
   "source": [
    "for path in video_glob:\n",
    "    video_prediction = detector.detect_video(path, skip_frames=24)\n",
    "    filename_no_ext = Path(path).stem\n",
    "    video_prediction.to_csv(f\"{out_path}/{filename_no_ext}.csv\")"
   ],
   "id": "a7ee307cffe426d6",
   "outputs": [
    {
     "name": "stderr",
     "output_type": "stream",
     "text": [
      "100%|██████████| 19/19 [00:40<00:00,  2.13s/it]\n",
      "100%|██████████| 9/9 [00:16<00:00,  1.80s/it]\n",
      "100%|██████████| 7/7 [00:12<00:00,  1.74s/it]\n",
      "100%|██████████| 12/12 [00:19<00:00,  1.61s/it]\n"
     ]
    }
   ],
   "execution_count": 30
  },
  {
   "metadata": {
    "ExecuteTime": {
     "end_time": "2024-04-18T09:43:11.276973Z",
     "start_time": "2024-04-18T09:43:11.269762Z"
    }
   },
   "cell_type": "code",
   "source": [
    "out_glob_path = \"../data/test/out/**/*\"\n",
    "out_glob = glob(out_glob_path, recursive=True)\n",
    "out_glob"
   ],
   "id": "fa6428fa64dc3370",
   "outputs": [
    {
     "data": {
      "text/plain": [
       "['../data/test/out/A91_ang_p_3.csv',\n",
       " '../data/test/out/A67_pea_v_3.csv',\n",
       " '../data/test/out/A72_det_p_3.csv',\n",
       " '../data/test/out/A102_gra_p_3.csv']"
      ]
     },
     "execution_count": 31,
     "metadata": {},
     "output_type": "execute_result"
    }
   ],
   "execution_count": 31
  },
  {
   "metadata": {
    "ExecuteTime": {
     "end_time": "2024-04-18T09:45:16.275407Z",
     "start_time": "2024-04-18T09:45:15.963528Z"
    }
   },
   "cell_type": "code",
   "source": [
    "from feat.utils.io import read_feat\n",
    "\n",
    "fex = pd.concat(map(lambda video: read_feat(video), out_glob))\n",
    "\n",
    "print(f\"Unique videos: {fex.inputs.nunique()}\")\n",
    "print(f\"Total processed frames: {fex.shape[0]}\")\n",
    "print(f\"Avg frames per video: {fex.groupby('input').size().mean()}\")"
   ],
   "id": "96ad3bb01c79ef66",
   "outputs": [
    {
     "name": "stdout",
     "output_type": "stream",
     "text": [
      "Unique videos: 4\n",
      "Total processed frames: 47\n",
      "Avg frames per video: 11.75\n"
     ]
    }
   ],
   "execution_count": 36
  },
  {
   "metadata": {
    "ExecuteTime": {
     "end_time": "2024-04-18T09:45:32.207334Z",
     "start_time": "2024-04-18T09:45:31.899187Z"
    }
   },
   "cell_type": "code",
   "source": [
    "by_video = fex.update_sessions(fex[\"input\"])\n",
    "\n",
    "# Compute the mean per video\n",
    "video_means = by_video.extract_mean()\n",
    "\n",
    "video_means # 20 rows for 20 videos"
   ],
   "id": "df533b3e6444e3ee",
   "outputs": [
    {
     "data": {
      "text/plain": [
       "                                           mean_frame  mean_FaceRectX  \\\n",
       "../data/test/sentimotion/A102_gra_p_3.mp4       132.0      531.198554   \n",
       "../data/test/sentimotion/A67_pea_v_3.mov        216.0      771.562806   \n",
       "../data/test/sentimotion/A72_det_p_3.mov         96.0      881.327852   \n",
       "../data/test/sentimotion/A91_ang_p_3.mov         72.0      895.085505   \n",
       "\n",
       "                                           mean_FaceRectY  mean_FaceRectWidth  \\\n",
       "../data/test/sentimotion/A102_gra_p_3.mp4      144.303387          217.407289   \n",
       "../data/test/sentimotion/A67_pea_v_3.mov       208.523008          262.666204   \n",
       "../data/test/sentimotion/A72_det_p_3.mov       231.005835          264.438986   \n",
       "../data/test/sentimotion/A91_ang_p_3.mov       268.402123          240.202991   \n",
       "\n",
       "                                           mean_FaceRectHeight  \\\n",
       "../data/test/sentimotion/A102_gra_p_3.mp4           305.271635   \n",
       "../data/test/sentimotion/A67_pea_v_3.mov            359.071035   \n",
       "../data/test/sentimotion/A72_det_p_3.mov            371.813191   \n",
       "../data/test/sentimotion/A91_ang_p_3.mov            361.832858   \n",
       "\n",
       "                                           mean_FaceScore    mean_x_0  \\\n",
       "../data/test/sentimotion/A102_gra_p_3.mp4        0.999595  532.116642   \n",
       "../data/test/sentimotion/A67_pea_v_3.mov         0.999597  769.852191   \n",
       "../data/test/sentimotion/A72_det_p_3.mov         0.999589  885.407354   \n",
       "../data/test/sentimotion/A91_ang_p_3.mov         0.998774  892.056050   \n",
       "\n",
       "                                             mean_x_1    mean_x_2    mean_x_3  \\\n",
       "../data/test/sentimotion/A102_gra_p_3.mp4  528.486648  526.816850  528.371011   \n",
       "../data/test/sentimotion/A67_pea_v_3.mov   769.631111  771.991512  777.164462   \n",
       "../data/test/sentimotion/A72_det_p_3.mov   889.058201  894.957784  904.331663   \n",
       "../data/test/sentimotion/A91_ang_p_3.mov   891.747550  893.890604  899.106817   \n",
       "\n",
       "                                           ...  mean_Identity_504  \\\n",
       "../data/test/sentimotion/A102_gra_p_3.mp4  ...           0.011006   \n",
       "../data/test/sentimotion/A67_pea_v_3.mov   ...          -0.007255   \n",
       "../data/test/sentimotion/A72_det_p_3.mov   ...           0.007678   \n",
       "../data/test/sentimotion/A91_ang_p_3.mov   ...           0.029917   \n",
       "\n",
       "                                           mean_Identity_505  \\\n",
       "../data/test/sentimotion/A102_gra_p_3.mp4           0.020576   \n",
       "../data/test/sentimotion/A67_pea_v_3.mov           -0.030642   \n",
       "../data/test/sentimotion/A72_det_p_3.mov           -0.027440   \n",
       "../data/test/sentimotion/A91_ang_p_3.mov            0.002133   \n",
       "\n",
       "                                           mean_Identity_506  \\\n",
       "../data/test/sentimotion/A102_gra_p_3.mp4          -0.051951   \n",
       "../data/test/sentimotion/A67_pea_v_3.mov           -0.025671   \n",
       "../data/test/sentimotion/A72_det_p_3.mov            0.010054   \n",
       "../data/test/sentimotion/A91_ang_p_3.mov            0.014117   \n",
       "\n",
       "                                           mean_Identity_507  \\\n",
       "../data/test/sentimotion/A102_gra_p_3.mp4          -0.069166   \n",
       "../data/test/sentimotion/A67_pea_v_3.mov            0.065744   \n",
       "../data/test/sentimotion/A72_det_p_3.mov           -0.006704   \n",
       "../data/test/sentimotion/A91_ang_p_3.mov            0.002373   \n",
       "\n",
       "                                           mean_Identity_508  \\\n",
       "../data/test/sentimotion/A102_gra_p_3.mp4           0.034516   \n",
       "../data/test/sentimotion/A67_pea_v_3.mov           -0.001048   \n",
       "../data/test/sentimotion/A72_det_p_3.mov            0.034199   \n",
       "../data/test/sentimotion/A91_ang_p_3.mov           -0.042045   \n",
       "\n",
       "                                           mean_Identity_509  \\\n",
       "../data/test/sentimotion/A102_gra_p_3.mp4           0.016368   \n",
       "../data/test/sentimotion/A67_pea_v_3.mov            0.011217   \n",
       "../data/test/sentimotion/A72_det_p_3.mov            0.023888   \n",
       "../data/test/sentimotion/A91_ang_p_3.mov           -0.066955   \n",
       "\n",
       "                                           mean_Identity_510  \\\n",
       "../data/test/sentimotion/A102_gra_p_3.mp4           0.029416   \n",
       "../data/test/sentimotion/A67_pea_v_3.mov           -0.036006   \n",
       "../data/test/sentimotion/A72_det_p_3.mov           -0.036173   \n",
       "../data/test/sentimotion/A91_ang_p_3.mov            0.003832   \n",
       "\n",
       "                                           mean_Identity_511  \\\n",
       "../data/test/sentimotion/A102_gra_p_3.mp4           0.014727   \n",
       "../data/test/sentimotion/A67_pea_v_3.mov           -0.033513   \n",
       "../data/test/sentimotion/A72_det_p_3.mov            0.028523   \n",
       "../data/test/sentimotion/A91_ang_p_3.mov           -0.079072   \n",
       "\n",
       "                                           mean_Identity_512  mean_frame.1  \n",
       "../data/test/sentimotion/A102_gra_p_3.mp4           0.032674         132.0  \n",
       "../data/test/sentimotion/A67_pea_v_3.mov           -0.006585         216.0  \n",
       "../data/test/sentimotion/A72_det_p_3.mov            0.024197          96.0  \n",
       "../data/test/sentimotion/A91_ang_p_3.mov           -0.041853          72.0  \n",
       "\n",
       "[4 rows x 685 columns]"
      ],
      "text/html": [
       "<div>\n",
       "<style scoped>\n",
       "    .dataframe tbody tr th:only-of-type {\n",
       "        vertical-align: middle;\n",
       "    }\n",
       "\n",
       "    .dataframe tbody tr th {\n",
       "        vertical-align: top;\n",
       "    }\n",
       "\n",
       "    .dataframe thead th {\n",
       "        text-align: right;\n",
       "    }\n",
       "</style>\n",
       "<table border=\"1\" class=\"dataframe\">\n",
       "  <thead>\n",
       "    <tr style=\"text-align: right;\">\n",
       "      <th></th>\n",
       "      <th>mean_frame</th>\n",
       "      <th>mean_FaceRectX</th>\n",
       "      <th>mean_FaceRectY</th>\n",
       "      <th>mean_FaceRectWidth</th>\n",
       "      <th>mean_FaceRectHeight</th>\n",
       "      <th>mean_FaceScore</th>\n",
       "      <th>mean_x_0</th>\n",
       "      <th>mean_x_1</th>\n",
       "      <th>mean_x_2</th>\n",
       "      <th>mean_x_3</th>\n",
       "      <th>...</th>\n",
       "      <th>mean_Identity_504</th>\n",
       "      <th>mean_Identity_505</th>\n",
       "      <th>mean_Identity_506</th>\n",
       "      <th>mean_Identity_507</th>\n",
       "      <th>mean_Identity_508</th>\n",
       "      <th>mean_Identity_509</th>\n",
       "      <th>mean_Identity_510</th>\n",
       "      <th>mean_Identity_511</th>\n",
       "      <th>mean_Identity_512</th>\n",
       "      <th>mean_frame.1</th>\n",
       "    </tr>\n",
       "  </thead>\n",
       "  <tbody>\n",
       "    <tr>\n",
       "      <th>../data/test/sentimotion/A102_gra_p_3.mp4</th>\n",
       "      <td>132.0</td>\n",
       "      <td>531.198554</td>\n",
       "      <td>144.303387</td>\n",
       "      <td>217.407289</td>\n",
       "      <td>305.271635</td>\n",
       "      <td>0.999595</td>\n",
       "      <td>532.116642</td>\n",
       "      <td>528.486648</td>\n",
       "      <td>526.816850</td>\n",
       "      <td>528.371011</td>\n",
       "      <td>...</td>\n",
       "      <td>0.011006</td>\n",
       "      <td>0.020576</td>\n",
       "      <td>-0.051951</td>\n",
       "      <td>-0.069166</td>\n",
       "      <td>0.034516</td>\n",
       "      <td>0.016368</td>\n",
       "      <td>0.029416</td>\n",
       "      <td>0.014727</td>\n",
       "      <td>0.032674</td>\n",
       "      <td>132.0</td>\n",
       "    </tr>\n",
       "    <tr>\n",
       "      <th>../data/test/sentimotion/A67_pea_v_3.mov</th>\n",
       "      <td>216.0</td>\n",
       "      <td>771.562806</td>\n",
       "      <td>208.523008</td>\n",
       "      <td>262.666204</td>\n",
       "      <td>359.071035</td>\n",
       "      <td>0.999597</td>\n",
       "      <td>769.852191</td>\n",
       "      <td>769.631111</td>\n",
       "      <td>771.991512</td>\n",
       "      <td>777.164462</td>\n",
       "      <td>...</td>\n",
       "      <td>-0.007255</td>\n",
       "      <td>-0.030642</td>\n",
       "      <td>-0.025671</td>\n",
       "      <td>0.065744</td>\n",
       "      <td>-0.001048</td>\n",
       "      <td>0.011217</td>\n",
       "      <td>-0.036006</td>\n",
       "      <td>-0.033513</td>\n",
       "      <td>-0.006585</td>\n",
       "      <td>216.0</td>\n",
       "    </tr>\n",
       "    <tr>\n",
       "      <th>../data/test/sentimotion/A72_det_p_3.mov</th>\n",
       "      <td>96.0</td>\n",
       "      <td>881.327852</td>\n",
       "      <td>231.005835</td>\n",
       "      <td>264.438986</td>\n",
       "      <td>371.813191</td>\n",
       "      <td>0.999589</td>\n",
       "      <td>885.407354</td>\n",
       "      <td>889.058201</td>\n",
       "      <td>894.957784</td>\n",
       "      <td>904.331663</td>\n",
       "      <td>...</td>\n",
       "      <td>0.007678</td>\n",
       "      <td>-0.027440</td>\n",
       "      <td>0.010054</td>\n",
       "      <td>-0.006704</td>\n",
       "      <td>0.034199</td>\n",
       "      <td>0.023888</td>\n",
       "      <td>-0.036173</td>\n",
       "      <td>0.028523</td>\n",
       "      <td>0.024197</td>\n",
       "      <td>96.0</td>\n",
       "    </tr>\n",
       "    <tr>\n",
       "      <th>../data/test/sentimotion/A91_ang_p_3.mov</th>\n",
       "      <td>72.0</td>\n",
       "      <td>895.085505</td>\n",
       "      <td>268.402123</td>\n",
       "      <td>240.202991</td>\n",
       "      <td>361.832858</td>\n",
       "      <td>0.998774</td>\n",
       "      <td>892.056050</td>\n",
       "      <td>891.747550</td>\n",
       "      <td>893.890604</td>\n",
       "      <td>899.106817</td>\n",
       "      <td>...</td>\n",
       "      <td>0.029917</td>\n",
       "      <td>0.002133</td>\n",
       "      <td>0.014117</td>\n",
       "      <td>0.002373</td>\n",
       "      <td>-0.042045</td>\n",
       "      <td>-0.066955</td>\n",
       "      <td>0.003832</td>\n",
       "      <td>-0.079072</td>\n",
       "      <td>-0.041853</td>\n",
       "      <td>72.0</td>\n",
       "    </tr>\n",
       "  </tbody>\n",
       "</table>\n",
       "<p>4 rows × 685 columns</p>\n",
       "</div>"
      ]
     },
     "execution_count": 37,
     "metadata": {},
     "output_type": "execute_result"
    }
   ],
   "execution_count": 37
  },
  {
   "metadata": {
    "ExecuteTime": {
     "end_time": "2024-04-18T09:49:59.328002Z",
     "start_time": "2024-04-18T09:49:59.309830Z"
    }
   },
   "cell_type": "code",
   "source": "by_video.emotions.extract_mean()",
   "id": "2d514135b786b573",
   "outputs": [
    {
     "data": {
      "text/plain": [
       "                                           mean_anger  mean_disgust  \\\n",
       "../data/test/sentimotion/A102_gra_p_3.mp4    0.001304      0.000114   \n",
       "../data/test/sentimotion/A67_pea_v_3.mov     0.012177      0.008325   \n",
       "../data/test/sentimotion/A72_det_p_3.mov     0.057326      0.017853   \n",
       "../data/test/sentimotion/A91_ang_p_3.mov     0.063984      0.000642   \n",
       "\n",
       "                                           mean_fear  mean_happiness  \\\n",
       "../data/test/sentimotion/A102_gra_p_3.mp4   0.015488        0.674397   \n",
       "../data/test/sentimotion/A67_pea_v_3.mov    0.006475        0.009207   \n",
       "../data/test/sentimotion/A72_det_p_3.mov    0.255293        0.348745   \n",
       "../data/test/sentimotion/A91_ang_p_3.mov    0.020102        0.053787   \n",
       "\n",
       "                                           mean_sadness  mean_surprise  \\\n",
       "../data/test/sentimotion/A102_gra_p_3.mp4      0.001941       0.303623   \n",
       "../data/test/sentimotion/A67_pea_v_3.mov       0.104358       0.004985   \n",
       "../data/test/sentimotion/A72_det_p_3.mov       0.132483       0.008598   \n",
       "../data/test/sentimotion/A91_ang_p_3.mov       0.001133       0.707435   \n",
       "\n",
       "                                           mean_neutral  \n",
       "../data/test/sentimotion/A102_gra_p_3.mp4      0.003133  \n",
       "../data/test/sentimotion/A67_pea_v_3.mov       0.854474  \n",
       "../data/test/sentimotion/A72_det_p_3.mov       0.179702  \n",
       "../data/test/sentimotion/A91_ang_p_3.mov       0.152916  "
      ],
      "text/html": [
       "<div>\n",
       "<style scoped>\n",
       "    .dataframe tbody tr th:only-of-type {\n",
       "        vertical-align: middle;\n",
       "    }\n",
       "\n",
       "    .dataframe tbody tr th {\n",
       "        vertical-align: top;\n",
       "    }\n",
       "\n",
       "    .dataframe thead th {\n",
       "        text-align: right;\n",
       "    }\n",
       "</style>\n",
       "<table border=\"1\" class=\"dataframe\">\n",
       "  <thead>\n",
       "    <tr style=\"text-align: right;\">\n",
       "      <th></th>\n",
       "      <th>mean_anger</th>\n",
       "      <th>mean_disgust</th>\n",
       "      <th>mean_fear</th>\n",
       "      <th>mean_happiness</th>\n",
       "      <th>mean_sadness</th>\n",
       "      <th>mean_surprise</th>\n",
       "      <th>mean_neutral</th>\n",
       "    </tr>\n",
       "  </thead>\n",
       "  <tbody>\n",
       "    <tr>\n",
       "      <th>../data/test/sentimotion/A102_gra_p_3.mp4</th>\n",
       "      <td>0.001304</td>\n",
       "      <td>0.000114</td>\n",
       "      <td>0.015488</td>\n",
       "      <td>0.674397</td>\n",
       "      <td>0.001941</td>\n",
       "      <td>0.303623</td>\n",
       "      <td>0.003133</td>\n",
       "    </tr>\n",
       "    <tr>\n",
       "      <th>../data/test/sentimotion/A67_pea_v_3.mov</th>\n",
       "      <td>0.012177</td>\n",
       "      <td>0.008325</td>\n",
       "      <td>0.006475</td>\n",
       "      <td>0.009207</td>\n",
       "      <td>0.104358</td>\n",
       "      <td>0.004985</td>\n",
       "      <td>0.854474</td>\n",
       "    </tr>\n",
       "    <tr>\n",
       "      <th>../data/test/sentimotion/A72_det_p_3.mov</th>\n",
       "      <td>0.057326</td>\n",
       "      <td>0.017853</td>\n",
       "      <td>0.255293</td>\n",
       "      <td>0.348745</td>\n",
       "      <td>0.132483</td>\n",
       "      <td>0.008598</td>\n",
       "      <td>0.179702</td>\n",
       "    </tr>\n",
       "    <tr>\n",
       "      <th>../data/test/sentimotion/A91_ang_p_3.mov</th>\n",
       "      <td>0.063984</td>\n",
       "      <td>0.000642</td>\n",
       "      <td>0.020102</td>\n",
       "      <td>0.053787</td>\n",
       "      <td>0.001133</td>\n",
       "      <td>0.707435</td>\n",
       "      <td>0.152916</td>\n",
       "    </tr>\n",
       "  </tbody>\n",
       "</table>\n",
       "</div>"
      ]
     },
     "execution_count": 44,
     "metadata": {},
     "output_type": "execute_result"
    }
   ],
   "execution_count": 44
  },
  {
   "metadata": {
    "ExecuteTime": {
     "end_time": "2024-04-18T09:49:46.609713Z",
     "start_time": "2024-04-18T09:49:46.589910Z"
    }
   },
   "cell_type": "code",
   "source": "by_video.emotions.extract_std()",
   "id": "772f481614f350db",
   "outputs": [
    {
     "data": {
      "text/plain": [
       "                                           std_anger  std_disgust  std_fear  \\\n",
       "../data/test/sentimotion/A102_gra_p_3.mp4   0.002566     0.000074  0.030312   \n",
       "../data/test/sentimotion/A67_pea_v_3.mov    0.009417     0.009886  0.008317   \n",
       "../data/test/sentimotion/A72_det_p_3.mov    0.104070     0.017549  0.289935   \n",
       "../data/test/sentimotion/A91_ang_p_3.mov    0.139854     0.000722  0.016560   \n",
       "\n",
       "                                           std_happiness  std_sadness  \\\n",
       "../data/test/sentimotion/A102_gra_p_3.mp4       0.349885     0.002782   \n",
       "../data/test/sentimotion/A67_pea_v_3.mov        0.007897     0.052185   \n",
       "../data/test/sentimotion/A72_det_p_3.mov        0.347233     0.203528   \n",
       "../data/test/sentimotion/A91_ang_p_3.mov        0.042500     0.002642   \n",
       "\n",
       "                                           std_surprise  std_neutral  \n",
       "../data/test/sentimotion/A102_gra_p_3.mp4      0.332019     0.003830  \n",
       "../data/test/sentimotion/A67_pea_v_3.mov       0.004316     0.060520  \n",
       "../data/test/sentimotion/A72_det_p_3.mov       0.012497     0.206935  \n",
       "../data/test/sentimotion/A91_ang_p_3.mov       0.341882     0.346357  "
      ],
      "text/html": [
       "<div>\n",
       "<style scoped>\n",
       "    .dataframe tbody tr th:only-of-type {\n",
       "        vertical-align: middle;\n",
       "    }\n",
       "\n",
       "    .dataframe tbody tr th {\n",
       "        vertical-align: top;\n",
       "    }\n",
       "\n",
       "    .dataframe thead th {\n",
       "        text-align: right;\n",
       "    }\n",
       "</style>\n",
       "<table border=\"1\" class=\"dataframe\">\n",
       "  <thead>\n",
       "    <tr style=\"text-align: right;\">\n",
       "      <th></th>\n",
       "      <th>std_anger</th>\n",
       "      <th>std_disgust</th>\n",
       "      <th>std_fear</th>\n",
       "      <th>std_happiness</th>\n",
       "      <th>std_sadness</th>\n",
       "      <th>std_surprise</th>\n",
       "      <th>std_neutral</th>\n",
       "    </tr>\n",
       "  </thead>\n",
       "  <tbody>\n",
       "    <tr>\n",
       "      <th>../data/test/sentimotion/A102_gra_p_3.mp4</th>\n",
       "      <td>0.002566</td>\n",
       "      <td>0.000074</td>\n",
       "      <td>0.030312</td>\n",
       "      <td>0.349885</td>\n",
       "      <td>0.002782</td>\n",
       "      <td>0.332019</td>\n",
       "      <td>0.003830</td>\n",
       "    </tr>\n",
       "    <tr>\n",
       "      <th>../data/test/sentimotion/A67_pea_v_3.mov</th>\n",
       "      <td>0.009417</td>\n",
       "      <td>0.009886</td>\n",
       "      <td>0.008317</td>\n",
       "      <td>0.007897</td>\n",
       "      <td>0.052185</td>\n",
       "      <td>0.004316</td>\n",
       "      <td>0.060520</td>\n",
       "    </tr>\n",
       "    <tr>\n",
       "      <th>../data/test/sentimotion/A72_det_p_3.mov</th>\n",
       "      <td>0.104070</td>\n",
       "      <td>0.017549</td>\n",
       "      <td>0.289935</td>\n",
       "      <td>0.347233</td>\n",
       "      <td>0.203528</td>\n",
       "      <td>0.012497</td>\n",
       "      <td>0.206935</td>\n",
       "    </tr>\n",
       "    <tr>\n",
       "      <th>../data/test/sentimotion/A91_ang_p_3.mov</th>\n",
       "      <td>0.139854</td>\n",
       "      <td>0.000722</td>\n",
       "      <td>0.016560</td>\n",
       "      <td>0.042500</td>\n",
       "      <td>0.002642</td>\n",
       "      <td>0.341882</td>\n",
       "      <td>0.346357</td>\n",
       "    </tr>\n",
       "  </tbody>\n",
       "</table>\n",
       "</div>"
      ]
     },
     "execution_count": 43,
     "metadata": {},
     "output_type": "execute_result"
    }
   ],
   "execution_count": 43
  }
 ],
 "metadata": {
  "kernelspec": {
   "display_name": "Python 3",
   "language": "python",
   "name": "python3"
  },
  "language_info": {
   "codemirror_mode": {
    "name": "ipython",
    "version": 2
   },
   "file_extension": ".py",
   "mimetype": "text/x-python",
   "name": "python",
   "nbconvert_exporter": "python",
   "pygments_lexer": "ipython2",
   "version": "2.7.6"
  }
 },
 "nbformat": 4,
 "nbformat_minor": 5
}
